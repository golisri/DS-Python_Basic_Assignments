{
 "cells": [
  {
   "cell_type": "code",
   "execution_count": null,
   "metadata": {},
   "outputs": [],
   "source": [
    "1. What does an empty dictionary's code look like?\n",
    "Two curly brackets: {}\n",
    "dict = {}\n",
    "\n",
    "\n"
   ]
  },
  {
   "cell_type": "code",
   "execution_count": 2,
   "metadata": {},
   "outputs": [
    {
     "data": {
      "text/plain": [
       "{'foo': 42}"
      ]
     },
     "execution_count": 2,
     "metadata": {},
     "output_type": "execute_result"
    }
   ],
   "source": [
    "# 2. What is the value of a dictionary value with the key 'foo' and the value 42?\n",
    "\n",
    "dict = { 'foo': 42}\n",
    "dict\n"
   ]
  },
  {
   "cell_type": "code",
   "execution_count": null,
   "metadata": {},
   "outputs": [],
   "source": [
    "3. What is the most significant distinction between a dictionary and a list?\n",
    "\n",
    "Both of them comes under python collections which are used to store collections of data.Main difference is that \n",
    "the items stored in a dictionary are unordered, while the items in a list are ordered.\n",
    "Both are mutable. \n",
    "List are defined using square brackets and can be acessed using indexes where as \n",
    "dictionary are defined using {} and used key and value pairs to store and to access the data.\n"
   ]
  },
  {
   "cell_type": "code",
   "execution_count": 6,
   "metadata": {},
   "outputs": [
    {
     "ename": "KeyError",
     "evalue": "'foo'",
     "output_type": "error",
     "traceback": [
      "\u001b[1;31m---------------------------------------------------------------------------\u001b[0m",
      "\u001b[1;31mKeyError\u001b[0m                                  Traceback (most recent call last)",
      "\u001b[1;32m<ipython-input-6-ec960a49f868>\u001b[0m in \u001b[0;36m<module>\u001b[1;34m\u001b[0m\n\u001b[0;32m      1\u001b[0m \u001b[1;31m# 4. What happens if spam['foo'] is 'bar': 100 and you try to access it?\u001b[0m\u001b[1;33m\u001b[0m\u001b[1;33m\u001b[0m\u001b[1;33m\u001b[0m\u001b[0m\n\u001b[0;32m      2\u001b[0m \u001b[0mdict\u001b[0m \u001b[1;33m=\u001b[0m \u001b[1;33m{\u001b[0m\u001b[1;34m'bar'\u001b[0m\u001b[1;33m:\u001b[0m \u001b[1;36m100\u001b[0m\u001b[1;33m}\u001b[0m\u001b[1;33m\u001b[0m\u001b[1;33m\u001b[0m\u001b[0m\n\u001b[1;32m----> 3\u001b[1;33m \u001b[0mdict\u001b[0m\u001b[1;33m[\u001b[0m\u001b[1;34m'foo'\u001b[0m\u001b[1;33m]\u001b[0m\u001b[1;33m\u001b[0m\u001b[1;33m\u001b[0m\u001b[0m\n\u001b[0m",
      "\u001b[1;31mKeyError\u001b[0m: 'foo'"
     ]
    }
   ],
   "source": [
    "# 4. What happens if spam['foo'] is 'bar': 100 and you try to access it?\n",
    "# will get a KeyError\n",
    "\n",
    "dict = {'bar': 100}\n",
    "dict['foo']"
   ]
  },
  {
   "cell_type": "code",
   "execution_count": 8,
   "metadata": {},
   "outputs": [
    {
     "data": {
      "text/plain": [
       "{'cat': 'cat', 'dog': 'red'}"
      ]
     },
     "execution_count": 8,
     "metadata": {},
     "output_type": "execute_result"
    }
   ],
   "source": [
    "# 5. What is the difference between the terms 'cat' in spam and 'cat' in spam if a dictionary is contained in spam?\n",
    "spam = {'cat': 'cat', 'dog': 'red'}\n",
    "spam\n",
    "# It wont give error as it treats cat as key and value separately.\n"
   ]
  },
  {
   "cell_type": "code",
   "execution_count": null,
   "metadata": {},
   "outputs": [],
   "source": [
    "What is the function keys()?\n",
    "\n",
    "Keys() if one of the dictionary access methods.Basically,\n",
    "there are three dictionary methods that will return list-like values of the dictionary’s keys, values, or both keys\n",
    "and values: keys(), values(), and items(). The values returned by these methods are not true lists: They cannot be \n",
    "modified and do not have an append() method.\n",
    "But these data types (dict_keys, dict_values, and dict_items, respectively) can be used in for loops. \n",
    " "
   ]
  },
  {
   "cell_type": "code",
   "execution_count": 9,
   "metadata": {},
   "outputs": [
    {
     "data": {
      "text/plain": [
       "{'cat': 'Animal', 'colour': 'white'}"
      ]
     },
     "execution_count": 9,
     "metadata": {},
     "output_type": "execute_result"
    }
   ],
   "source": [
    "#6. What is the difference between the terms 'cat' in spam and 'cat' in spam.values() when a dictionary is \n",
    "# contained in spam?\n",
    "\n",
    "spam = 'cat' # here it is normal string\n",
    "spam = {'cat': 'Animal', 'colour': 'white'} # here cat is contained as key in spam dictionary. so it will check using spam.values()\n",
    "spam"
   ]
  },
  {
   "cell_type": "code",
   "execution_count": null,
   "metadata": {},
   "outputs": [],
   "source": [
    "7. What is the quickest way to type the following code?\n",
    "\n",
    "if the word 'colour' isn't in spam:\n",
    "\n",
    "'black' for spam['color']\n",
    "\n",
    "we often have to set a value in a dictionary for a certain key only if that key does not already have a value.\n",
    "The setdefault() method offers a way to do this in one line of code. The first argument passed to the method is the\n",
    "key to check for, and the second argument is the value to set at that key if the key does not exist. \n",
    "If the key does exist, the setdefault() method returns the key’s value.see below code.\n",
    "\n"
   ]
  },
  {
   "cell_type": "code",
   "execution_count": 10,
   "metadata": {},
   "outputs": [
    {
     "data": {
      "text/plain": [
       "{'name': 'Pooja', 'age': 15, 'color': 'black'}"
      ]
     },
     "execution_count": 10,
     "metadata": {},
     "output_type": "execute_result"
    }
   ],
   "source": [
    "spam = {'name': 'Pooja', 'age': 15}\n",
    "spam\n",
    "spam.setdefault('color', 'black')\n",
    "spam"
   ]
  },
  {
   "cell_type": "code",
   "execution_count": null,
   "metadata": {},
   "outputs": [],
   "source": []
  },
  {
   "cell_type": "code",
   "execution_count": null,
   "metadata": {},
   "outputs": [],
   "source": [
    "8. How do you \"pretty print\" dictionary values using which module and function?\n",
    "we need to use the pprint module in our programs, then we will have access to the pprint() and pformat() functions \n",
    "that will “pretty print” a dictionary’s values. This is helpful when you want a cleaner display of the items in a \n",
    "dictionary than what print() provides.\n",
    "\n"
   ]
  },
  {
   "cell_type": "code",
   "execution_count": 12,
   "metadata": {},
   "outputs": [
    {
     "name": "stdout",
     "output_type": "stream",
     "text": [
      "{' ': 17,\n",
      " '.': 1,\n",
      " 'A': 1,\n",
      " 'I': 2,\n",
      " 'L': 1,\n",
      " 'M': 1,\n",
      " 'P': 1,\n",
      " 'a': 6,\n",
      " 'c': 2,\n",
      " 'd': 2,\n",
      " 'e': 10,\n",
      " 'f': 3,\n",
      " 'g': 3,\n",
      " 'h': 4,\n",
      " 'i': 5,\n",
      " 'k': 1,\n",
      " 'l': 2,\n",
      " 'm': 1,\n",
      " 'n': 9,\n",
      " 'o': 7,\n",
      " 'q': 1,\n",
      " 'r': 7,\n",
      " 's': 3,\n",
      " 't': 7,\n",
      " 'u': 3,\n",
      " 'w': 3,\n",
      " 'y': 1}\n"
     ]
    }
   ],
   "source": [
    "# using pprint module for cleaner print\n",
    "import pprint\n",
    "message = 'Python is one of the wonderful language to work with. It caters for Machine Learning and AI requirements'  \n",
    "count = {}\n",
    "\n",
    "for character in message:\n",
    "    count.setdefault(character, 0)\n",
    "    count[character] = count[character] + 1\n",
    "pprint.pprint(count)"
   ]
  },
  {
   "cell_type": "code",
   "execution_count": 13,
   "metadata": {},
   "outputs": [
    {
     "name": "stdout",
     "output_type": "stream",
     "text": [
      "{'P': 1, 'y': 1, 't': 7, 'h': 4, 'o': 7, 'n': 9, ' ': 17, 'i': 5, 's': 3, 'e': 10, 'f': 3, 'w': 3, 'd': 2, 'r': 7, 'u': 3, 'l': 2, 'a': 6, 'g': 3, 'k': 1, '.': 1, 'I': 2, 'c': 2, 'M': 1, 'L': 1, 'A': 1, 'q': 1, 'm': 1}\n"
     ]
    }
   ],
   "source": [
    "# using normal print option.\n",
    "message = 'Python is one of the wonderful language to work with. It caters for Machine Learning and AI requirements'  \n",
    "count = {}\n",
    "\n",
    "for character in message:\n",
    "    count.setdefault(character, 0)\n",
    "    count[character] = count[character] + 1\n",
    "\n",
    "print(count)"
   ]
  },
  {
   "cell_type": "code",
   "execution_count": null,
   "metadata": {},
   "outputs": [],
   "source": []
  }
 ],
 "metadata": {
  "kernelspec": {
   "display_name": "Python 3",
   "language": "python",
   "name": "python3"
  },
  "language_info": {
   "codemirror_mode": {
    "name": "ipython",
    "version": 3
   },
   "file_extension": ".py",
   "mimetype": "text/x-python",
   "name": "python",
   "nbconvert_exporter": "python",
   "pygments_lexer": "ipython3",
   "version": "3.7.4"
  }
 },
 "nbformat": 4,
 "nbformat_minor": 2
}
