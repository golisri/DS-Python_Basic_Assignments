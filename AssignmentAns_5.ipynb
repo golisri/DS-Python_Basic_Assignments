{
 "cells": [
  {
   "cell_type": "code",
   "execution_count": null,
   "metadata": {},
   "outputs": [],
   "source": [
    "1. What does an empty dictionary's code look like?\n",
    "Two curly brackets: {}\n",
    "dict = {}\n",
    "\n",
    "\n",
    "2. What is the value of a dictionary value with the key 'foo' and the value 42?\n",
    "\n",
    "\n",
    "\n",
    "3. What is the most significant distinction between a dictionary and a list?\n",
    "\n",
    "\n",
    "\n",
    "4. What happens if spam['foo'] is 'bar': 100 and you try to access it?\n",
    "\n",
    "\n",
    "\n",
    "5. What is the difference between the terms 'cat' in spam and 'cat' in spam if a dictionary is contained in spam?\n",
    "\n",
    "\n",
    "\n",
    "What is the function keys()?\n",
    "\n",
    "\n",
    "\n",
    "6. What is the difference between the terms 'cat' in spam and 'cat' in spam.values() when a dictionary is contained in spam?\n",
    "\n",
    "\n",
    "\n",
    "7. What is the quickest way to type the following code?\n",
    "\n",
    "\n",
    "\n",
    "if the word 'colour' isn't in spam:\n",
    "\n",
    "'black' for spam['color']\n",
    "\n",
    "\n",
    "\n",
    "8. How do you \"pretty print\" dictionary values using which module and function?\n"
   ]
  }
 ],
 "metadata": {
  "kernelspec": {
   "display_name": "Python 3",
   "language": "python",
   "name": "python3"
  },
  "language_info": {
   "codemirror_mode": {
    "name": "ipython",
    "version": 3
   },
   "file_extension": ".py",
   "mimetype": "text/x-python",
   "name": "python",
   "nbconvert_exporter": "python",
   "pygments_lexer": "ipython3",
   "version": "3.7.4"
  }
 },
 "nbformat": 4,
 "nbformat_minor": 2
}
