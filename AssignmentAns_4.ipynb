{
 "cells": [
  {
   "cell_type": "code",
   "execution_count": 2,
   "metadata": {},
   "outputs": [
    {
     "data": {
      "text/plain": [
       "list"
      ]
     },
     "execution_count": 2,
     "metadata": {},
     "output_type": "execute_result"
    }
   ],
   "source": [
    "# 1. What exactly is []?\n",
    "#This nototation is to define a list\n",
    "\n",
    "lst = []  # declaring a empty list\n",
    "type(lst)"
   ]
  },
  {
   "cell_type": "code",
   "execution_count": 6,
   "metadata": {},
   "outputs": [
    {
     "name": "stdout",
     "output_type": "stream",
     "text": [
      "[2, 4, 'hello', 8, 10]\n"
     ]
    }
   ],
   "source": [
    "# 2. In a list of values stored in a variable called spam, how would you assign the value 'hello' as the third value? \n",
    "# (Assume [2, 4, 6, 8, 10] are in spam.)\n",
    "\n",
    "lst = [2,4,6,8,10]\n",
    "lst[2] = \"hello\" # assigning value hello at postion 3 using index\n",
    "print(lst)"
   ]
  },
  {
   "cell_type": "code",
   "execution_count": 13,
   "metadata": {},
   "outputs": [
    {
     "data": {
      "text/plain": [
       "'d'"
      ]
     },
     "execution_count": 13,
     "metadata": {},
     "output_type": "execute_result"
    }
   ],
   "source": [
    "# Let's pretend the spam includes the list ['a', 'b', 'c', 'd'] for the next three queries.\n",
    "# 3. What is the value of spam[int(int('3' * 2) / 11)]?\n",
    "\n",
    "spam = ['a','b','c','d']\n",
    "spam[int(int('3'*2)/11)]  # value at index 3 is 'd'\n",
    "\n",
    "\n"
   ]
  },
  {
   "cell_type": "code",
   "execution_count": 14,
   "metadata": {},
   "outputs": [
    {
     "data": {
      "text/plain": [
       "'d'"
      ]
     },
     "execution_count": 14,
     "metadata": {},
     "output_type": "execute_result"
    }
   ],
   "source": [
    "# 4. What is the value of spam[-1]?\n",
    "spam[-1] # value at end of list ie index -1 is 'd'\n",
    "\n"
   ]
  },
  {
   "cell_type": "code",
   "execution_count": 16,
   "metadata": {},
   "outputs": [
    {
     "data": {
      "text/plain": [
       "['a', 'b']"
      ]
     },
     "execution_count": 16,
     "metadata": {},
     "output_type": "execute_result"
    }
   ],
   "source": [
    "## 5. What is the value of spam[:2]?\n",
    "spam[:2] # gives list of values from starting till index 2 excluding index 2 with step size 1."
   ]
  },
  {
   "cell_type": "code",
   "execution_count": 18,
   "metadata": {},
   "outputs": [
    {
     "data": {
      "text/plain": [
       "1"
      ]
     },
     "execution_count": 18,
     "metadata": {},
     "output_type": "execute_result"
    }
   ],
   "source": [
    "# Let's pretend bacon has the list [3.14, 'cat,' 11, 'cat,' True] for the next three questions.\n",
    "\n",
    "# 6. What is the value of bacon.index('cat')?\n",
    "bacon = [3.14,'cat',11,'cat',True ]\n",
    "bacon.index('cat') # it will give the first occurence of wor 'cat'  index not the subsequent one.\n"
   ]
  },
  {
   "cell_type": "code",
   "execution_count": 19,
   "metadata": {},
   "outputs": [
    {
     "data": {
      "text/plain": [
       "[3.14, 'cat', 11, 'cat', True, 99]"
      ]
     },
     "execution_count": 19,
     "metadata": {},
     "output_type": "execute_result"
    }
   ],
   "source": [
    "# 7. How does bacon.append(99) change the look of the list value in bacon?\n",
    "bacon.append(99) ## 99 will get appended as the last item in the list\n",
    "bacon"
   ]
  },
  {
   "cell_type": "code",
   "execution_count": 21,
   "metadata": {},
   "outputs": [
    {
     "data": {
      "text/plain": [
       "[3.14, 11, True, 99]"
      ]
     },
     "execution_count": 21,
     "metadata": {},
     "output_type": "execute_result"
    }
   ],
   "source": [
    "# 8. How does bacon.remove('cat') change the look of the list meaning in bacon?\n",
    "bacon.remove('cat') # cat word gets removed from the list\n",
    "bacon"
   ]
  },
  {
   "cell_type": "code",
   "execution_count": 28,
   "metadata": {},
   "outputs": [
    {
     "data": {
      "text/plain": [
       "[1, 2, 3, 4, 'a', 'b', 'c']"
      ]
     },
     "execution_count": 28,
     "metadata": {},
     "output_type": "execute_result"
    }
   ],
   "source": [
    "# 9. What are the list concatenation and list replication operators?\n",
    "# list contatenation\n",
    "spam = [1,2,3,4]\n",
    "spam2 = [\"a\",\"b\",\"c\"]\n",
    "spam+spam2  # This is list concatenation\n",
    "\n"
   ]
  },
  {
   "cell_type": "code",
   "execution_count": 31,
   "metadata": {},
   "outputs": [
    {
     "data": {
      "text/plain": [
       "['x', 'y', 'z', 'x', 'y', 'z', 'x', 'y', 'z']"
      ]
     },
     "execution_count": 31,
     "metadata": {},
     "output_type": "execute_result"
    }
   ],
   "source": [
    "# list replication\n",
    "lst =[ 'x','y','z']\n",
    "lst = lst*3 # here lst has been replicated 3 times.\n",
    "lst"
   ]
  },
  {
   "cell_type": "code",
   "execution_count": 34,
   "metadata": {},
   "outputs": [
    {
     "data": {
      "text/plain": [
       "[11, 22, 33, 44, 345]"
      ]
     },
     "execution_count": 34,
     "metadata": {},
     "output_type": "execute_result"
    }
   ],
   "source": [
    "# 10. What is difference between the list methods append() and insert()?\n",
    "lst =[11,22,33,44]\n",
    "lst.append(345) # here item will get added at the end of the list\n",
    "lst"
   ]
  },
  {
   "cell_type": "code",
   "execution_count": 35,
   "metadata": {},
   "outputs": [
    {
     "data": {
      "text/plain": [
       "[11, 22, 33, 44, 55, 345]"
      ]
     },
     "execution_count": 35,
     "metadata": {},
     "output_type": "execute_result"
    }
   ],
   "source": [
    "lst.insert(4,55) # here item will be added at the given index location ie before the 4th element here\n",
    "lst"
   ]
  },
  {
   "cell_type": "code",
   "execution_count": 42,
   "metadata": {},
   "outputs": [
    {
     "name": "stdout",
     "output_type": "stream",
     "text": [
      "list before removing: ['Roses', 'Orchids', 'Chrystemums', 'daffodils']\n",
      "list after removing Roses: ['Orchids', 'Chrystemums', 'daffodils']\n",
      "\n",
      "list before poping: ['Roses', 'Orchids', 'Chrystemums', 'daffodils']\n",
      "list after poping : ['Roses', 'Orchids', 'daffodils']\n"
     ]
    }
   ],
   "source": [
    "# 11. What are the two methods for removing items from a list?\n",
    "# remove() and pop() are two methods to remove items from list\n",
    "\n",
    "#method 1\n",
    "lst = ['Roses','Orchids','Chrystemums','daffodils']\n",
    "print(\"list before removing:\" , lst)\n",
    "lst.remove('Roses')\n",
    "print(\"list after removing Roses:\",lst)\n",
    "\n",
    "#method 2\n",
    "lst = ['Roses','Orchids','Chrystemums','daffodils']\n",
    "print(\"\\nlist before poping:\" , lst)\n",
    "lst.pop(2) # poping 2nd element\n",
    "print(\"list after poping :\",lst)"
   ]
  },
  {
   "cell_type": "code",
   "execution_count": null,
   "metadata": {},
   "outputs": [],
   "source": [
    "12. Describe how list values and string values are identical.\n",
    "\n",
    "List and string both are used to store value /data.These two are 2 differenent data types.Both are sequences.\n",
    "\n",
    "\n",
    "Strings\n",
    "=======\n",
    "creation : can use either single quote (‘) or double quotes (“) to create strings. \n",
    "           It can store only string values and uses indexing tecnique to grab \n",
    "           the individual letters in string.\n",
    "           str = \"hello\"\n",
    "        \n",
    "Indexing : we can access individual letters using indexes as below\n",
    "           str[0]\n",
    "\n",
    "Slicing: we can use slicing to traverse through list using : \n",
    "         str[0:3] which means get the letters index 1 to 3 exclusing index 3 from str with step size of 1.\n",
    "\n",
    "Mutability: Strings are immutable which means we cannot change/replace elements in the string once created as string. \n",
    "            str = \"hello\"\n",
    "            str[0]\n",
    "Lists\n",
    "=====\n",
    "Creation : we can use [] to create list. It can hold heterogenous data inside it.\n",
    "          list =[]\n",
    "          my_list = ['A string',23,100.232,'o']\n",
    "\n",
    "\n",
    "Indexing: we can access individual elements through indexing ie lst[0]\n",
    "\n",
    "Slicing: almost similar to string for eg: lst[1:2:1]\n",
    "        \n",
    "Mutability: List are mutable which means we can change the elements inside  the list. \n",
    "\n"
   ]
  },
  {
   "cell_type": "code",
   "execution_count": 43,
   "metadata": {},
   "outputs": [],
   "source": [
    "13. What's the difference between tuples and lists?\n",
    "Tuples are similar to lists but they are immutable i.e. they cannot be changed.\n",
    "You would use the tuples to present data that shouldn't be changed, such as days of week or dates on a calendar.\n",
    "# Can create a tuple with mixed types\n",
    "t = (1,2,3,'r','t')\n",
    "\n",
    "Lists are mutable ie they can be changed/assign new values."
   ]
  },
  {
   "cell_type": "code",
   "execution_count": 47,
   "metadata": {},
   "outputs": [
    {
     "data": {
      "text/plain": [
       "tuple"
      ]
     },
     "execution_count": 47,
     "metadata": {},
     "output_type": "execute_result"
    }
   ],
   "source": [
    "t = (1,2,3,'r','t')\n",
    "type(t)"
   ]
  },
  {
   "cell_type": "code",
   "execution_count": null,
   "metadata": {},
   "outputs": [],
   "source": [
    "14. How do you type a tuple value that only contains the integer 42?"
   ]
  },
  {
   "cell_type": "code",
   "execution_count": 61,
   "metadata": {},
   "outputs": [
    {
     "data": {
      "text/plain": [
       "tuple"
      ]
     },
     "execution_count": 61,
     "metadata": {},
     "output_type": "execute_result"
    }
   ],
   "source": [
    "t = tuple([42]) # passing 42 as a list to tuple.\n",
    "type(t)\n"
   ]
  },
  {
   "cell_type": "code",
   "execution_count": 65,
   "metadata": {},
   "outputs": [
    {
     "data": {
      "text/plain": [
       "['rrr', '56.67', 67.98]"
      ]
     },
     "execution_count": 65,
     "metadata": {},
     "output_type": "execute_result"
    }
   ],
   "source": [
    " # 15. How do you get a list value's tuple form? How do you get a tuple value's list form?\n",
    "\n",
    "lst = [2,3,4,'a','bb','dd'] \n",
    "t = tuple(lst) # list typecasting to tuple\n",
    "t\n",
    "\n",
    "tt = ('rrr','56.67',67.98)\n",
    "ll = list(tt) # tuple being typecasted to list\n",
    "ll"
   ]
  },
  {
   "cell_type": "code",
   "execution_count": null,
   "metadata": {},
   "outputs": [],
   "source": [
    "16. Variables that \"contain\" list values are not necessarily lists themselves. Instead, what do they contain?\n",
    "\n",
    "Variables will contain references to list values rather than list values themselves. \n",
    "But for strings and integer values, variables simply contain the string or integer value. \n",
    "Python uses references whenever variables must store values of mutable data types, such as lists or dictionaries. \n",
    "For values of immutable data types such as strings, integers, or tuples, Python variables will store the value itself.\n",
    "\n",
    "Although Python variables technically contain references to list or dictionary values, \n",
    "we often casually say that the variable contains the list or dictionary."
   ]
  },
  {
   "cell_type": "code",
   "execution_count": null,
   "metadata": {},
   "outputs": [],
   "source": [
    "17. How do you distinguish between copy.copy() and copy.deepcopy()?\n",
    "\n",
    "Although passing around references is often the handiest way to deal with lists and dictionaries, if the function modifies\n",
    "the list or dictionary that is passed, you may not want these changes in the original list or dictionary value. \n",
    "For this, Python provides a module named copy that provides both the copy() and deepcopy() functions. \n",
    "The first of these, copy.copy(), can be used to make a duplicate copy of a mutable value like a list or dictionary,\n",
    "not just a copy of a reference. see below:\n"
   ]
  },
  {
   "cell_type": "code",
   "execution_count": 69,
   "metadata": {},
   "outputs": [
    {
     "data": {
      "text/plain": [
       "['A', 'B', 'C', 'D']"
      ]
     },
     "execution_count": 69,
     "metadata": {},
     "output_type": "execute_result"
    }
   ],
   "source": [
    "import copy\n",
    "spam = ['A', 'B', 'C', 'D']\n",
    "cheese = copy.copy(spam)\n",
    "cheese[1] = 42\n",
    "spam\n"
   ]
  },
  {
   "cell_type": "code",
   "execution_count": 70,
   "metadata": {},
   "outputs": [
    {
     "data": {
      "text/plain": [
       "['A', 42, 'C', 'D']"
      ]
     },
     "execution_count": 70,
     "metadata": {},
     "output_type": "execute_result"
    }
   ],
   "source": [
    "cheese"
   ]
  },
  {
   "cell_type": "code",
   "execution_count": null,
   "metadata": {},
   "outputs": [],
   "source": [
    "Now the spam and cheese variables refer to separate lists,\n",
    "copy.copy(spam) creates a second list that can be modified independently of the first. \n",
    "which is why only the list in cheese is modified when you assign 42 at index 1.\n",
    "\n",
    "If the list you need to copy contains lists, then use the copy.deepcopy() function instead of copy.copy().\n",
    "The deepcopy() function will copy these inner lists as well.\n"
   ]
  }
 ],
 "metadata": {
  "kernelspec": {
   "display_name": "Python 3",
   "language": "python",
   "name": "python3"
  },
  "language_info": {
   "codemirror_mode": {
    "name": "ipython",
    "version": 3
   },
   "file_extension": ".py",
   "mimetype": "text/x-python",
   "name": "python",
   "nbconvert_exporter": "python",
   "pygments_lexer": "ipython3",
   "version": "3.7.4"
  }
 },
 "nbformat": 4,
 "nbformat_minor": 2
}
