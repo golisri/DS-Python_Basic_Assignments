{
 "cells": [
  {
   "cell_type": "markdown",
   "metadata": {},
   "source": [
    "1. What are the benefits of including functions in the programmes? \n",
    "Functions reduce the need for duplicate code. This makes programs shorter, easier to read, and easier to update.\n",
    "\n"
   ]
  },
  {
   "cell_type": "code",
   "execution_count": null,
   "metadata": {},
   "outputs": [],
   "source": [
    "2. When does the code in a function run: when it's specified or when it's called?\n",
    "The code in a function executes when the function is called, not when the function is defined.\n",
    "\n",
    "\n",
    "3. What statement causes a feature to be created?\n",
    "The def statement defines (that is, creates) a function.\n",
    "\n",
    "\n",
    "4. What is the distinction between a function and a call to a function?\n",
    "A function consists of the def statement and the code in its def clause. A function call\n",
    "is what moves the program execution into the function, and the function call evaluates to the function’s return value.\n",
    "\n",
    "\n",
    "5. In a Python application, how many global scopes are there? How many local scopes are there?\n",
    "There is one global scope, and a local scope is created whenever a function is called.\n",
    "\n",
    "\n",
    "6. When a function call returns, what happens to variables in the local scope?\n",
    "When a function returns, the local scope is destroyed, and all the variables in it are gone.\n",
    "\n",
    "\n",
    "7. What is the concept of a return value? Is it possible to have a return value in an expression?\n",
    "A return value is the value that a function call evaluates to.\n",
    "Like any value, a return value can be used as part of an expression.\n",
    "\n",
    "\n",
    "8. What is the return value of a call to a function that does not have a return statement?\n",
    "If there is no return statement for a function, its return value is None.\n",
    "\n",
    "\n",
    "9. How do you make a function variable refer to the global variable?\n",
    "A global statement will force a variable in a function to refer to the global variable.\n",
    "\n",
    "\n",
    "10. What data form does None belong to?\n",
    "The data type of None is NoneType.\n",
    "\n",
    "\n",
    "11. What does the sentence import areallyourpetsnamederic do?\n",
    "That import statement imports a module named areallyourpetsnamederic.\n",
    "\n",
    "\n",
    "12. If you had a bacon() feature in a spam module, what would you call it after importing spam?\n",
    "This function could be called with spam.bacon().\n",
    "\n",
    "\n",
    "13. What can you do to save a programme from crashing if it encounters an error?\n",
    "Place the line of code that might cause an error in a try block.\n",
    "\n",
    "\n",
    "14. What is the purpose of the try clause? What is the purpose of the except clause?\n",
    "The code that could potentially cause an error goes in the try clause. \n",
    "The code that executes if an error happens goes in the except clause."
   ]
  },
  {
   "cell_type": "code",
   "execution_count": null,
   "metadata": {},
   "outputs": [],
   "source": []
  }
 ],
 "metadata": {
  "kernelspec": {
   "display_name": "Python 3",
   "language": "python",
   "name": "python3"
  },
  "language_info": {
   "codemirror_mode": {
    "name": "ipython",
    "version": 3
   },
   "file_extension": ".py",
   "mimetype": "text/x-python",
   "name": "python",
   "nbconvert_exporter": "python",
   "pygments_lexer": "ipython3",
   "version": "3.7.4"
  }
 },
 "nbformat": 4,
 "nbformat_minor": 2
}
