{
 "cells": [
  {
   "cell_type": "code",
   "execution_count": null,
   "metadata": {},
   "outputs": [],
   "source": [
    "1. What are the Boolean data type's two values? How do you go about writing them?\n",
    "\n",
    "True\n",
    "False\n",
    "\n",
    "These two are boolean data types.\n",
    "\n",
    "\n",
    "2. What are the three different types of Boolean operators?\n",
    "\n",
    "python boolean operators: AND operator OR operator NOT operator\n",
    "\n",
    "Boolean Operators are the operators that operate on the Boolean values and if it is applied \n",
    "on a non-Boolean value then the value is first typecasted and then operated upon.\n",
    "\n",
    "\n",
    "3. Make a list of each Boolean operator's truth tables \n",
    "(i.e. every possible combination of Boolean values for the operator and what it evaluate ).\n",
    "\n",
    "AND operator truth table:\n",
    "        Expression         Evaluates to\n",
    "        True and True      True\n",
    "        True and False     False\n",
    "        False and True     False\n",
    "        False and False    False\n",
    "OR operator truth table:\n",
    "        Expression         Evaluates to\n",
    "        True OR True      True\n",
    "        True OR  False    True\n",
    "        False OR True     True\n",
    "        False OR False    False\n",
    "        \n",
    "4. What are the values of the following expressions?\n",
    "\n",
    "(5 > 4) and (3 == 5)  --- False\n",
    "not (5 > 4) -- False\n",
    "(5 > 4) or (3 == 5) -- True\n",
    "not ((5 > 4) or (3 == 5)) -- False\n",
    "(True and True) and (True == False) -- False\n",
    "(not False) or (not True) -- True\n",
    "\n",
    "5. What are the six different types of reference operators? \n",
    "\n",
    "Python language supports the following types of operators.\n",
    "\n",
    "Arithmetic Operators (+,-,*,/,**,%,//)\n",
    "Bitwise Operators    (&,|,^,~,>>,<<)\n",
    "Membership Operators (in,not in) eg: if (a in x), if(b not in x)\n",
    "Identity Operators    (is, is not)\n",
    "Comparison Operators  ( ==,!=,<>,<=,>=,<,>)\n",
    "Assignment Operators  (=,+=,-=,*=,%=,/=,**=,//=)\n",
    "Logical Operators     (and,or,not)\n",
    "\n",
    "\n",
    "\n",
    "6. How do you tell the difference between the equal to and assignment operators?\n",
    "\n",
    "= -- This is assignment/operator ( this we use to assign a value to a variable)\n",
    "== -- This is equality operator ( this we use to see whether two expressions gives the same value or not)\n",
    "eg: a=10 (this is assignment operator)\n",
    "    x==y (checking whether x naad y holds the same value or not)\n",
    "    \n",
    "    \n",
    "7. Describe a condition and when you would use one.\n",
    "\n",
    "Python supports the usual logical conditions from mathematics:\n",
    "\n",
    "Equals: a == b\n",
    "Not Equals: a != b\n",
    "Less than: a < b\n",
    "Less than or equal to: a <= b\n",
    "Greater than: a > b\n",
    "Greater than or equal to: a >= b\n",
    "These conditions can be used in several ways, most commonly in \"if statements\" and loops.\n",
    "\n",
    "\n",
    "\n",
    "2 if blocks and an else block \n",
    "\n",
    "\n",
    "\n"
   ]
  },
  {
   "cell_type": "code",
   "execution_count": 1,
   "metadata": {},
   "outputs": [
    {
     "name": "stdout",
     "output_type": "stream",
     "text": [
      "spam\n"
     ]
    }
   ],
   "source": [
    "## 8. Recognize the following three blocks in this code:\n",
    "## This code has got 2 if blocks and an else block.\n",
    "\n",
    "spam = 0\n",
    "if spam == 10: # Here it checks for spam value and this if condition evalues to false and hence comes out if & prints spam.\n",
    "    print('eggs')\n",
    "    if spam > 5:\n",
    "        print('bacon')\n",
    "    else:\n",
    "        print('ham')\n",
    "    print('spam')\n",
    "print('spam')\n"
   ]
  },
  {
   "cell_type": "code",
   "execution_count": 26,
   "metadata": {},
   "outputs": [
    {
     "name": "stdout",
     "output_type": "stream",
     "text": [
      "5\n",
      "something else in spam\n"
     ]
    }
   ],
   "source": [
    "## 9. Create a programme that prints. If 1 is stored in spam, prints Hello; if 2 is stored in spam, prints Howdy;\n",
    "## and if 3 is stored in spam, prints Salutations! if there's something else in spam.\n",
    "\n",
    "spam = int(input())\n",
    "           \n",
    "if spam == 1:\n",
    "    print(\"Hello\")\n",
    "elif spam ==2:\n",
    "    print(\"Howdy\")\n",
    "elif spam == 3:\n",
    "    print(\"Salutations!\")\n",
    "else:\n",
    "    print(\"something else in spam\")\n",
    "   \n",
    "\n",
    "    \n",
    "  \n"
   ]
  },
  {
   "cell_type": "code",
   "execution_count": null,
   "metadata": {},
   "outputs": [],
   "source": [
    "10.If your programme is stuck in an endless loop, what keys can you press?\n",
    "\n",
    "clt+c or if it in IDE, we can stop kernal or interrupt kernal and restart kernal , fix code and rerun the code.\n",
    "\n",
    "\n",
    "\n",
    "\n"
   ]
  },
  {
   "cell_type": "code",
   "execution_count": 21,
   "metadata": {},
   "outputs": [
    {
     "name": "stdout",
     "output_type": "stream",
     "text": [
      "Sree\n",
      "Tina\n",
      "Guru\n",
      "Found the name Guru\n",
      "Loop is Terminated\n"
     ]
    }
   ],
   "source": [
    "\n",
    "# 11. How can you tell the difference between break and continue?\n",
    "\n",
    "'''In Python, break and continue statements can alter the flow of a normal loop.\n",
    "Loops iterate over a block of code until test expression is false, but sometimes we wish \n",
    "to terminate the current iteration or even the whole loop without checking test expression. \n",
    "The break and continue statements are used in these cases.\n",
    "break will break the for loop and executes the statements after loop. here is example.\n",
    "The continue statement skips the code that comes after it, and the control is passed back \n",
    "to the start for the next iteration.'''\n",
    "\n",
    "my_list = ['Sree', 'Tina', 'Guru', 'Dak', 'Raj', 'Guru'] \n",
    "\n",
    "for i in range(len(my_list)):\n",
    "    print(my_list[i])\n",
    "    if my_list[i] == 'Guru':\n",
    "        print('Found the name Guru')\n",
    "        break\n",
    "        print('After break statement')\n",
    "\n",
    "print('Loop is Terminated')"
   ]
  },
  {
   "cell_type": "code",
   "execution_count": 22,
   "metadata": {},
   "outputs": [
    {
     "name": "stdout",
     "output_type": "stream",
     "text": [
      "Sree\n",
      "Tina\n",
      "Guru\n",
      "Found the name Guru\n",
      "After while-loop exit\n"
     ]
    }
   ],
   "source": [
    "# while loop break statement\n",
    "my_list = ['Sree', 'Tina', 'Guru', 'Dak', 'Raj', 'Guru'] \n",
    "i = 0\n",
    "\n",
    "while True:\n",
    "    print(my_list[i])\n",
    "    if (my_list[i] == 'Guru'):\n",
    "        print('Found the name Guru')\n",
    "        break\n",
    "        print('After break statement')\n",
    "    i += 1\n",
    "\n",
    "\n",
    "    print('After while-loop exit')"
   ]
  },
  {
   "cell_type": "code",
   "execution_count": 23,
   "metadata": {},
   "outputs": [
    {
     "name": "stdout",
     "output_type": "stream",
     "text": [
      "The Number is : 0\n",
      "The Number is : 1\n",
      "The Number is : 2\n",
      "The Number is : 3\n",
      "The Number is : 4\n",
      "The Number is : 5\n",
      "The Number is : 6\n",
      "The Number is : 8\n",
      "The Number is : 9\n"
     ]
    }
   ],
   "source": [
    "# continue statment in for loop\n",
    "\n",
    "for i in range(10):    \n",
    "    if i == 7:\n",
    "        continue  ## Here once i becomes 7, control is given back to for loop without printing i which is 7 here\n",
    "    print(\"The Number is :\" , i)"
   ]
  },
  {
   "cell_type": "code",
   "execution_count": 24,
   "metadata": {},
   "outputs": [
    {
     "name": "stdout",
     "output_type": "stream",
     "text": [
      "The Number is  : 0\n",
      "The Number is  : 1\n",
      "The Number is  : 2\n",
      "The Number is  : 3\n",
      "The Number is  : 4\n",
      "The Number is  : 5\n",
      "The Number is  : 6\n",
      "The Number is  : 8\n",
      "The Number is  : 9\n",
      "The Number is  : 10\n"
     ]
    }
   ],
   "source": [
    "# continue statement in while loop\n",
    "\n",
    "i = 0\n",
    "while i <= 10:    \n",
    "    if i == 7:\n",
    "        i += 1\n",
    "        continue  \n",
    "    print(\"The Number is  :\" , i)\n",
    "    i += 1"
   ]
  },
  {
   "cell_type": "code",
   "execution_count": 16,
   "metadata": {},
   "outputs": [
    {
     "name": "stdout",
     "output_type": "stream",
     "text": [
      "0\n",
      "1\n",
      "2\n",
      "3\n",
      "4\n",
      "5\n",
      "6\n",
      "7\n",
      "8\n",
      "9\n"
     ]
    }
   ],
   "source": [
    "## 12. In a for loop, what is the difference between range(10), range(0, 10), and range(0, 10, 1)?\n",
    "\n",
    "''' Basically, all the 3 range functions generates sequnece of 0 to 9 numbers to use in for loops or lists.\n",
    "Most common use of range () function in Python is to iterate sequence type (List, string etc.. ) with for and while loop.\n",
    "so range() : In simple terms, range () allows user to generate a series of numbers within a given range.\n",
    "range(10) -- it starts generating sequnce numbers from 0 to 10 excluding 10 with step size of 1(this is defalult)\n",
    "range(1,10) -- same as above\n",
    "range(0,10,1) -- same as above '''\n",
    "\n",
    "# for loop\n",
    "\n",
    "for i in range(10):\n",
    "    print(i)\n"
   ]
  },
  {
   "cell_type": "code",
   "execution_count": 14,
   "metadata": {},
   "outputs": [
    {
     "name": "stdout",
     "output_type": "stream",
     "text": [
      "1\n",
      "2\n",
      "3\n",
      "4\n",
      "5\n",
      "6\n",
      "7\n",
      "8\n",
      "9\n",
      "10\n"
     ]
    }
   ],
   "source": [
    "## 13. Using a for loop, write a short programme that prints the numbers 1 to 10 Then, using a while loop, \n",
    "## create an identical programme that prints the numbers 1 to 10.\n",
    "\n",
    "for i in range(1,11):\n",
    "    print(i)\n",
    "\n",
    "\n"
   ]
  },
  {
   "cell_type": "code",
   "execution_count": 12,
   "metadata": {},
   "outputs": [
    {
     "name": "stdout",
     "output_type": "stream",
     "text": [
      "1\n",
      "2\n",
      "3\n",
      "4\n",
      "5\n",
      "6\n",
      "7\n",
      "8\n",
      "9\n",
      "10\n"
     ]
    }
   ],
   "source": [
    "## while loop\n",
    "c=1\n",
    "while c<=10:\n",
    "    print(c)\n",
    "    c=c+1"
   ]
  },
  {
   "cell_type": "code",
   "execution_count": null,
   "metadata": {},
   "outputs": [],
   "source": [
    "14. If you had a bacon() function within a spam module, how  would you call it after importing spam?\n",
    "\n",
    "import spam as sp\n",
    "sp.bacon()\n"
   ]
  }
 ],
 "metadata": {
  "kernelspec": {
   "display_name": "Python 3",
   "language": "python",
   "name": "python3"
  },
  "language_info": {
   "codemirror_mode": {
    "name": "ipython",
    "version": 3
   },
   "file_extension": ".py",
   "mimetype": "text/x-python",
   "name": "python",
   "nbconvert_exporter": "python",
   "pygments_lexer": "ipython3",
   "version": "3.7.4"
  }
 },
 "nbformat": 4,
 "nbformat_minor": 2
}
