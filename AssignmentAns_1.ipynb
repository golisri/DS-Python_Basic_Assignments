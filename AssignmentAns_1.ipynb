{
 "cells": [
  {
   "cell_type": "markdown",
   "metadata": {},
   "source": [
    "1. What are the differences between operators and values in the following?\n",
    "\n",
    "Operators : In Python, an operator is a symbol that represents a predefined operation. \n",
    "For exampple, the plus sign (+) performs an addition operation, and the asterisk (*) \n",
    "performs a multiplication operation,/ is used for division, - is for subtraction. we apply operators on values.\n",
    "Values: \n",
    "\n",
    "* -- opertor\n",
    "'hello' - String value\n",
    "-87.8 - floating point number ( These are Values)\n",
    "-  - subtraction operator\n",
    "/ - division operator\n",
    "+ - Addition operator\n",
    "6 - integer value\n"
   ]
  },
  {
   "cell_type": "markdown",
   "metadata": {},
   "source": [
    "2. What is the difference between string and variable?\n",
    "spam\n",
    "'spam'\n",
    "\n",
    "Strings: Strings in python are surrounded by either single quotation marks, or double quotation marks. we can assign \n",
    "         string to a variable.\n",
    "\n",
    "        'hello' is the same as \"hello\".\n",
    "        eg: a = \"Taj Mahal is one of the world wonders\"\n",
    "         \n",
    "         Strings are represented as arrays in python and we can use [] to access elements of string.\n",
    "         It has some builin functions to use them with strings like len(),upper(),split() etc.\n",
    "        \n",
    "\n",
    "Variable: Variables are containers for storing data values.\n",
    "Python has no command for declaring a variable and we dont need to declare it what type of data it is going to hold.\n",
    "it can determine on runtime and we can change the datatype in due course.\n",
    "A variable is created the moment you first assign a value to it.\n",
    "eg:\n",
    "    x=10      # x is type of interger \n",
    "    y= \"George\"  # y is a string type\n",
    "    \n"
   ]
  },
  {
   "cell_type": "markdown",
   "metadata": {},
   "source": [
    "3. Describe three different data forms.\n",
    "\n",
    "I assume that data form here means data type.\n",
    "we have Integer,string,float,complex are some of the built in data types we have in python.\n",
    "\n"
   ]
  },
  {
   "cell_type": "markdown",
   "metadata": {},
   "source": [
    "4. What makes up an expression? What are the functions of all expressions?\n",
    "\n",
    "Expression in python is nothing but an legal combination of symbols (like a variable, constants, and operators) representing a value. An expression must have at least one operand (variable or constant) and have one or more operators. After evaluating an expression, we get a value.\n",
    "\n",
    "For example, x+y*z-8 is an example of an expression, where +, * are operators; x, y, and z are variables, and 8 is a constant.\n",
    "\n",
    "Actually, the operand is the value on which the operator is applied, and operators use constants and variables to form an expression.\n",
    "\n",
    "5. In this chapter, assignment statements such as spam = 10 were added. What's the difference between a declaration and an expression?\n",
    "Here spam= 10 is an assignment operation.\n",
    "Here we are declaring a variable and assigning a value to it in a single statememt\n",
    "\n",
    "Expression : 2+2\n",
    "Expressions consist of values (such as 2) and operators (such as +), and they can always evaluate (that is, reduce) down to a single value. That means you can use expressions anywhere in Python code that you could also use a value.\n",
    "\n",
    "6. After running the following code, what does the variable bacon contain?\n",
    "bacon = 22\n",
    "bacon + 1\n",
    "\n",
    "bacon holds 23\n",
    "\n",
    "\n",
    "7. What should the values of the following two terms be?\n",
    "\n",
    "'spam' + 'spamspam' (# concatination operation)\n",
    "'spam' * 3 (multiplication operation on strings)\n",
    "\n",
    "both of the evaluates to the following output:\n",
    "\n",
    "'spamspamspam'\n",
    "\n",
    "8. Why is it that eggs is a true variable name but 100 is not?\n",
    "\n",
    "variable names cannot start with number hence 100 is not a valid variable name.\n",
    "\n",
    "9. Which of the following three functions may be used to convert a value to an integer, a floating-point number, or a string?\n",
    "\n",
    "int(),float(),str() are the three functions we can use\n",
    "\n",
    "10. What is the error caused by this expression? What would you do about it?\n",
    "\n",
    "'I have eaten ' + 99 + ' burritos.'\n",
    "\n",
    "cannot concatenate string to an integer.This operation is not allowed.\n"
   ]
  },
  {
   "cell_type": "code",
   "execution_count": 1,
   "metadata": {},
   "outputs": [
    {
     "ename": "TypeError",
     "evalue": "can only concatenate str (not \"int\") to str",
     "output_type": "error",
     "traceback": [
      "\u001b[1;31m---------------------------------------------------------------------------\u001b[0m",
      "\u001b[1;31mTypeError\u001b[0m                                 Traceback (most recent call last)",
      "\u001b[1;32m<ipython-input-1-d24137131a5c>\u001b[0m in \u001b[0;36m<module>\u001b[1;34m\u001b[0m\n\u001b[1;32m----> 1\u001b[1;33m \u001b[1;34m'I have eaten '\u001b[0m \u001b[1;33m+\u001b[0m \u001b[1;36m99\u001b[0m \u001b[1;33m+\u001b[0m \u001b[1;34m' burritos.'\u001b[0m\u001b[1;33m\u001b[0m\u001b[1;33m\u001b[0m\u001b[0m\n\u001b[0m",
      "\u001b[1;31mTypeError\u001b[0m: can only concatenate str (not \"int\") to str"
     ]
    }
   ],
   "source": [
    "'I have eaten ' + 99 + ' burritos.'"
   ]
  },
  {
   "cell_type": "code",
   "execution_count": null,
   "metadata": {},
   "outputs": [],
   "source": []
  }
 ],
 "metadata": {
  "kernelspec": {
   "display_name": "Python 3",
   "language": "python",
   "name": "python3"
  },
  "language_info": {
   "codemirror_mode": {
    "name": "ipython",
    "version": 3
   },
   "file_extension": ".py",
   "mimetype": "text/x-python",
   "name": "python",
   "nbconvert_exporter": "python",
   "pygments_lexer": "ipython3",
   "version": "3.7.4"
  }
 },
 "nbformat": 4,
 "nbformat_minor": 2
}
