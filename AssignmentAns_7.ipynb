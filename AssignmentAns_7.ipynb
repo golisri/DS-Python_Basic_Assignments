{
 "cells": [
  {
   "cell_type": "code",
   "execution_count": null,
   "metadata": {},
   "outputs": [],
   "source": [
    "1. What is the name of the feature responsible for generating Regex objects?\n",
    "\n",
    "Regular expressions, called regexes for short, are descriptions for a pattern of text.\n",
    "For example, a \\d in a regex stands for a digit character\n",
    "\n",
    "re is the module avaliable in python for regular expressions\n",
    "The re.compile() function returns Regex objects.\n",
    "Passing a string value representing your regular expression to re.compile() returns a Regex pattern object\n",
    "\n",
    "for eg: phoneNumRegex = re.compile(r'\\d\\d\\d-\\d\\d\\d-\\d\\d\\d\\d')  # regex object for US phone number.\n"
   ]
  },
  {
   "cell_type": "code",
   "execution_count": null,
   "metadata": {},
   "outputs": [],
   "source": [
    "2. Why do raw strings often appear in Regex objects?\n",
    " Raw strings are used so that backslashes do not have to be escaped."
   ]
  },
  {
   "cell_type": "code",
   "execution_count": null,
   "metadata": {},
   "outputs": [],
   "source": [
    "3. What is the return value of the search() method?\n",
    "The search() method returns Match objects."
   ]
  },
  {
   "cell_type": "code",
   "execution_count": null,
   "metadata": {},
   "outputs": [],
   "source": [
    "4. From a Match item, how do you get the actual strings that match the pattern?\n",
    " The group() method returns strings of the matched text."
   ]
  },
  {
   "cell_type": "code",
   "execution_count": null,
   "metadata": {},
   "outputs": [],
   "source": [
    "5. In the regex which created from the r'(\\d\\d\\d)-(\\d\\d\\d-\\d\\d\\d\\d)', what does group zero cover? Group 2? Group 1?\n",
    "\n",
    "Group 0 is the entire match, group 1 covers the first set of parentheses, and group 2 covers the second set of parentheses."
   ]
  },
  {
   "cell_type": "code",
   "execution_count": null,
   "metadata": {},
   "outputs": [],
   "source": [
    "6. In standard expression syntax, parentheses and intervals have distinct meanings.\n",
    "How can you tell a regex that you want it to fit real parentheses and periods?\n",
    "\n",
    "Parentheses have a special meaning in regular expressions\n",
    "Periods and parentheses can be escaped with a backslash: \\., \\(, and \\)\n",
    "    \n",
    "In regular expressions, the following characters have special meanings:\n",
    "\n",
    ".  ^  $  *  +  ?  {  }  [  ]  \\  |  (  )\n",
    "\n",
    "If you want to detect these characters as part of your text pattern, you need to escape them with a backslash:\n",
    "\n",
    "\\.  \\^  \\$  \\*  \\+  \\?  \\{  \\}  \\[  \\]  \\\\  \\|  \\(  \\)"
   ]
  },
  {
   "cell_type": "code",
   "execution_count": null,
   "metadata": {},
   "outputs": [],
   "source": [
    "7. The findall() method returns a string list or a list of string tuples. What causes it to return one of the two options?\n",
    "\n",
    "You can find all matching occurrences with the findall() method.\n",
    "findall() will not return a Match object but a list of strings—as long as there are no groups in the regular expression.\n",
    "If there are groups in the regular expression, then findall() will return a list of tuples.\n"
   ]
  },
  {
   "cell_type": "code",
   "execution_count": null,
   "metadata": {},
   "outputs": [],
   "source": [
    ">>> phoneNumRegex = re.compile(r'\\d\\d\\d-\\d\\d\\d-\\d\\d\\d\\d') # has no groups\n",
    ">>> phoneNumRegex.findall('Cell: 415-555-9999 Work: 212-555-0000')\n",
    "['415-555-9999', '212-555-0000']\n",
    "\n",
    "\n",
    ">>> phoneNumRegex = re.compile(r'(\\d\\d\\d)-(\\d\\d\\d)-(\\d\\d\\d\\d)') # has groups\n",
    ">>> phoneNumRegex.findall('Cell: 415-555-9999 Work: 212-555-0000')\n",
    "[('415', '555', '9999'), ('212', '555', '0000')]"
   ]
  },
  {
   "cell_type": "code",
   "execution_count": null,
   "metadata": {},
   "outputs": [],
   "source": [
    "8. In standard expressions, what does the | character mean?\n",
    "\n",
    "The | character is called a pipe. You can use it anywhere you want to match one of many expressions. "
   ]
  },
  {
   "cell_type": "code",
   "execution_count": null,
   "metadata": {},
   "outputs": [],
   "source": [
    "9. In regular expressions, what does the? character stand for?\n",
    "\n",
    "Question mark can have two meanings in regular expressions: declaring a non-greedy match or \n",
    "flagging an optional group. These meanings are entirely unrelated."
   ]
  },
  {
   "cell_type": "code",
   "execution_count": null,
   "metadata": {},
   "outputs": [],
   "source": [
    "10.regular expressions, what is the difference between the + and * characters?\n",
    "\n",
    "The * (called the star or asterisk) means “match zero or more”—the group that precedes the star can occur any \n",
    "number of times in the text.It can be completely absent or repeated over and over again.\n",
    "\n",
    ">>> batRegex = re.compile(r'Bat(wo)*man')\n",
    ">>> mo1 = batRegex.search('The Adventures of Batman')\n",
    ">>> mo1.group()\n",
    "'Batman'\n",
    "\n",
    ">>> mo2 = batRegex.search('The Adventures of Batwoman')\n",
    ">>> mo2.group()\n",
    "'Batwoman'\n",
    "\n",
    ">>> mo3 = batRegex.search('The Adventures of Batwowowowoman')\n",
    ">>> mo3.group()\n",
    "'Batwowowowoman'\n",
    "\n",
    "For 'Batman', the (wo)* part of the regex matches zero instances of wo in the string; for 'Batwoman',\n",
    "the (wo)* matches one instance of wo; and for 'Batwowowowoman', (wo)* matches four instances of wo.\n",
    "\n",
    "While * means “match zero or more,” the + (or plus) means “match one or more.” Unlike the star, which does not \n",
    "require its group to appear in the matched string,the group preceding a plus must appear at least once. It is not optional.\n",
    "\n",
    ">>> batRegex = re.compile(r'Bat(wo)+man')\n",
    ">>> mo1 = batRegex.search('The Adventures of Batwoman')\n",
    ">>> mo1.group()\n",
    "'Batwoman'\n",
    "\n",
    ">>> mo2 = batRegex.search('The Adventures of Batwowowowoman')\n",
    ">>> mo2.group()\n",
    "'Batwowowowoman'\n",
    "\n",
    ">>> mo3 = batRegex.search('The Adventures of Batman')\n",
    ">>> mo3 == None\n",
    "True\n",
    "\n",
    "The regex Bat(wo)+man will not match the string 'The Adventures of Batman',\n",
    "because at least one wo is required by the plus sign."
   ]
  },
  {
   "cell_type": "code",
   "execution_count": null,
   "metadata": {},
   "outputs": [],
   "source": [
    "11. What is the difference between {4} and {4,5} in regular expression?\n",
    "(Da){3,} will match three or more instances of the (Da) group, while (Da){,5} will match zero to five instances.\n",
    "Braces can help make your regular expressions shorter.\n",
    "\n",
    "(Da){3}\n",
    "(Da)(Da)(Da)\n",
    "\n",
    "and \n",
    "(Da){3,5}\n",
    "((Da)(Da)(Da))|((Da)(Da)(Da)(Da))|((Da)(Da)(Da)(Da)(Da))"
   ]
  },
  {
   "cell_type": "code",
   "execution_count": null,
   "metadata": {},
   "outputs": [],
   "source": [
    "12. What do you mean by the \\d, \\w, and \\s shorthand character classes signify in regular expressions?\n",
    "\n",
    "Shorthand character class    Represents\n",
    "\n",
    "\\d                           Any numeric digit from 0 to 9.\n",
    "\n",
    "\\w                           Any letter, numeric digit, or the underscore character. \n",
    "                             (Think of this as matching “word” characters.)\n",
    "\\s                           Any space, tab, or newline character. (Think of this as matching “space” characters.)\n"
   ]
  },
  {
   "cell_type": "code",
   "execution_count": null,
   "metadata": {},
   "outputs": [],
   "source": [
    "13. What do means by \\D, \\W, and \\S shorthand character classes signify in regular expressions?\n",
    "\n",
    "\\D                           Any character that is not a numeric digit from 0 to 9.\n",
    "\n",
    "\\W                           Any character that is not a letter, numeric digit, or the underscore character.\n",
    "\n",
    "\\S                           Any character that is not a space, tab, or newline."
   ]
  },
  {
   "cell_type": "code",
   "execution_count": null,
   "metadata": {},
   "outputs": [],
   "source": [
    "14. What is the difference between .* and .*?\n",
    "\n",
    "The .* performs a greedy match, and the .*? performs a non-greedy match.\n",
    "\n",
    "The dot-star uses greedy mode: It will always try to match as much text as possible. To match any and all text in a \n",
    "non-greedy fashion, use the dot, star, and question mark (.*?).\n",
    "Like with braces, the question mark tells Python to match in a non-greedy way.\n",
    "\n",
    "\n",
    ">>> nongreedyRegex = re.compile(r'<.*?>')\n",
    ">>> mo = nongreedyRegex.search('<To serve man> for dinner.>')\n",
    ">>> mo.group()\n",
    "'<To serve man>'\n",
    "\n",
    ">>> greedyRegex = re.compile(r'<.*>')\n",
    ">>> mo = greedyRegex.search('<To serve man> for dinner.>')\n",
    ">>> mo.group()\n",
    "'<To serve man> for dinner.>'\n",
    "\n",
    "above one translate to “Match an opening angle bracket, followed by anything, followed by a closing angle bracket.”\n",
    "But the string '<To serve man> for dinner.>' has two possible matches for the closing angle bracket.\n",
    "In the non-greedy version of the regex, Python matches the shortest possible string: '<To serve man>'.\n",
    "    In the greedy version, Python matches the longest possible string: '<To serve man> for dinner.>'.\n",
    "        "
   ]
  },
  {
   "cell_type": "code",
   "execution_count": null,
   "metadata": {},
   "outputs": [],
   "source": [
    "15. What is the syntax for matching both numbers and lowercase letters with a character class?\n",
    "\n",
    "[0-9a-z] or [a-z0-9]\n"
   ]
  },
  {
   "cell_type": "code",
   "execution_count": null,
   "metadata": {},
   "outputs": [],
   "source": [
    "16. What is the procedure for making a normal expression in regax case insensitive?\n",
    "\n",
    "Passing re.I or re.IGNORECASE as the second argument to re.compile() will make the matching case insensitive."
   ]
  },
  {
   "cell_type": "code",
   "execution_count": null,
   "metadata": {},
   "outputs": [],
   "source": [
    "17. What does the . character normally match? What does it match if re.DOTALL is passed as 2nd argument in re.compile()?\n",
    "\n",
    "The . character normally matches any character except the newline character. If re.DOTALL is passed as the second argument \n",
    "to re.compile(),then the dot will also match newline characters."
   ]
  },
  {
   "cell_type": "code",
   "execution_count": null,
   "metadata": {},
   "outputs": [],
   "source": [
    "18. If numReg = re.compile(r'\\d+'), what will numRegex.sub('X', '11 drummers, 10 pipers, five rings, 4 hen') return?\n",
    "\n",
    " The sub() call will return the string 'X drummers, X pipers, five rings, X hens'.\n"
   ]
  },
  {
   "cell_type": "code",
   "execution_count": null,
   "metadata": {},
   "outputs": [],
   "source": [
    "19. What does passing re.VERBOSE as the 2nd argument to re.compile() allow to do?\n",
    "\n",
    "The re.VERBOSE argument allows you to add whitespace and comments to the string passed to re.compile().\n"
   ]
  },
  {
   "cell_type": "code",
   "execution_count": null,
   "metadata": {},
   "outputs": [],
   "source": [
    "20. How would you write a regex that matche a number with comma for every three digits? It must match the given following:\n",
    "\n",
    "'42'\n",
    "'1,234'\n",
    "'6,368,745'\n",
    "but not the following:\n",
    "\n",
    "'12,34,567' (which has only two digits between the commas)\n",
    "'1234' (which lacks commas)\n",
    "\n",
    "re.compile(r'^\\d{1,3}(,\\d{3})*$') will create this regex, but other regex strings can produce a similar regular expression.\n",
    "\n",
    "\n",
    "21. How would you write a regex that matches the full name of someone whose last name is Watanabe? You can assume that the first name that comes before it will always be one word that begins with a capital letter. The regex must match the following:\n",
    "\n",
    "'Haruto Watanabe'\n",
    "'Alice Watanabe'\n",
    "'RoboCop Watanabe'\n",
    "but not the following:\n",
    "\n",
    "'haruto Watanabe' (where the first name is not capitalized)\n",
    "'Mr. Watanabe' (where the preceding word has a nonletter character)\n",
    "'Watanabe' (which has no first name)\n",
    "'Haruto watanabe' (where Watanabe is not capitalized)\n",
    "\n",
    " re.compile(r'[A-Z][a-z]*\\sWatanabe')\n",
    "    \n",
    "    \n",
    "22. How would you write a regex that matches a sentence where the first word is either Alice, Bob, or Carol; \n",
    "the second word is either eats, pets, or throws; the third word is apples, cats, or baseballs; and the sentence\n",
    "ends with a period? This regex should be case-insensitive. It must match the following:\n",
    "\n",
    "'Alice eats apples.'\n",
    "'Bob pets cats.'\n",
    "'Carol throws baseballs.'\n",
    "'Alice throws Apples.'\n",
    "'BOB EATS CATS.'\n",
    "but not the following:\n",
    "\n",
    "'RoboCop eats apples.'\n",
    "'ALICE THROWS FOOTBALLS.'\n",
    "'Carol eats 7 cats.'\n",
    "\n",
    " re.compile(r'(Alice|Bob|Carol)\\s(eats|pets|throws)\\s(apples|cats|baseballs)\\.', re.IGNORECASE)"
   ]
  },
  {
   "cell_type": "code",
   "execution_count": null,
   "metadata": {},
   "outputs": [],
   "source": []
  }
 ],
 "metadata": {
  "kernelspec": {
   "display_name": "Python 3",
   "language": "python",
   "name": "python3"
  },
  "language_info": {
   "codemirror_mode": {
    "name": "ipython",
    "version": 3
   },
   "file_extension": ".py",
   "mimetype": "text/x-python",
   "name": "python",
   "nbconvert_exporter": "python",
   "pygments_lexer": "ipython3",
   "version": "3.7.4"
  }
 },
 "nbformat": 4,
 "nbformat_minor": 2
}
